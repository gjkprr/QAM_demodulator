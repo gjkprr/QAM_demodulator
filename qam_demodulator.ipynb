{
  "nbformat": 4,
  "nbformat_minor": 0,
  "metadata": {
    "colab": {
      "provenance": []
    },
    "kernelspec": {
      "name": "python3",
      "display_name": "Python 3"
    },
    "language_info": {
      "name": "python"
    }
  },
  "cells": [
    {
      "cell_type": "code",
      "execution_count": 17,
      "metadata": {
        "id": "LR8NX1SZ350D"
      },
      "outputs": [],
      "source": [
        "import numpy as np\n",
        "import matplotlib.pyplot as plt\n",
        "\n",
        "# Parameters\n",
        "M = 4  # Order of QAM (e.g., 16-QAM)\n",
        "symbol_rate = 1 # Symbols per second\n",
        "sample_rate = 1 # Samples per second\n",
        "time = 10  # Signal duration in seconds"
      ]
    },
    {
      "cell_type": "code",
      "source": [
        "# Generate random symbols# Generate random symbols\n",
        "num_symbols = int(symbol_rate * time)\n",
        "symbols = np.random.randint(0, M, num_symbols)  # Random indices for QAM symbols\n",
        "\n",
        "print(num_symbols)\n",
        "print(symbols)\n",
        "I_vals = 2 * (np.arange(np.sqrt(M)) - (np.sqrt(M) - 1) / 2)\n",
        "Q_vals = 2 * (np.arange(np.sqrt(M)) - (np.sqrt(M) - 1) / 2)\n",
        "print(I_vals)\n",
        "print(Q_vals)"
      ],
      "metadata": {
        "colab": {
          "base_uri": "https://localhost:8080/"
        },
        "id": "1yybHbz95GAd",
        "outputId": "fed6028e-27a4-4ab1-abc1-fa07b50f5799"
      },
      "execution_count": 18,
      "outputs": [
        {
          "output_type": "stream",
          "name": "stdout",
          "text": [
            "10\n",
            "[2 1 1 2 3 3 3 1 2 1]\n",
            "[-1.  1.]\n",
            "[-1.  1.]\n"
          ]
        }
      ]
    },
    {
      "cell_type": "code",
      "source": [
        "# Map symbols to QAM_values\n",
        "constellation = np.array([[i + 1j * q for q in Q_vals] for i in I_vals]).flatten()\n",
        "\n",
        "qam_modulated_signal = constellation[symbols]\n",
        "print(constellation)\n",
        "print(qam_modulated_signal)"
      ],
      "metadata": {
        "colab": {
          "base_uri": "https://localhost:8080/"
        },
        "id": "SkLsFHws1sq-",
        "outputId": "d47b428e-704c-4132-8788-bb85f6366512"
      },
      "execution_count": 19,
      "outputs": [
        {
          "output_type": "stream",
          "name": "stdout",
          "text": [
            "[-1.-1.j -1.+1.j  1.-1.j  1.+1.j]\n",
            "[ 1.-1.j -1.+1.j -1.+1.j  1.-1.j  1.+1.j  1.+1.j  1.+1.j -1.+1.j  1.-1.j\n",
            " -1.+1.j]\n"
          ]
        }
      ]
    },
    {
      "cell_type": "code",
      "source": [
        "# Generate time-domain waveform\n",
        "samples_per_symbol = int(sample_rate / symbol_rate)\n",
        "t = np.arange(num_symbols * samples_per_symbol) / sample_rate\n",
        "carrier_I = np.real(qam_modulated_signal.repeat(samples_per_symbol))\n",
        "carrier_Q = np.imag(qam_modulated_signal.repeat(samples_per_symbol))\n",
        "carrier_waveform = carrier_I * np.cos(2 * np.pi * symbol_rate * t) - carrier_Q * np.sin(2 * np.pi * symbol_rate * t)"
      ],
      "metadata": {
        "id": "yZRzSVYNDIO2"
      },
      "execution_count": 20,
      "outputs": []
    },
    {
      "cell_type": "code",
      "source": [
        "print(samples_per_symbol)\n",
        "print(t)\n",
        "print(carrier_I)\n",
        "print(carrier_Q)\n",
        "print(carrier_waveform)"
      ],
      "metadata": {
        "colab": {
          "base_uri": "https://localhost:8080/"
        },
        "id": "C6Aryzghdi9w",
        "outputId": "3301b105-61d8-4877-d8b7-9db9c28f7e8e"
      },
      "execution_count": 21,
      "outputs": [
        {
          "output_type": "stream",
          "name": "stdout",
          "text": [
            "1\n",
            "[0. 1. 2. 3. 4. 5. 6. 7. 8. 9.]\n",
            "[ 1. -1. -1.  1.  1.  1.  1. -1.  1. -1.]\n",
            "[-1.  1.  1. -1.  1.  1.  1.  1. -1.  1.]\n",
            "[ 1. -1. -1.  1.  1.  1.  1. -1.  1. -1.]\n"
          ]
        }
      ]
    },
    {
      "cell_type": "code",
      "source": [
        "# Add noise\n",
        "SNR_dB = 20  # Signal-to-noise ratio in dB\n",
        "SNR = 10 ** (SNR_dB / 10)\n",
        "noise_power = np.var(carrier_waveform) / SNR\n",
        "noise = np.sqrt(noise_power) * np.random.randn(len(carrier_waveform))\n",
        "received_signal = carrier_waveform + noise\n",
        "print(carrier_waveform)"
      ],
      "metadata": {
        "colab": {
          "base_uri": "https://localhost:8080/"
        },
        "id": "ELniCneIeZAU",
        "outputId": "403aa3cb-3772-4819-baf2-383e9cd85b89"
      },
      "execution_count": 22,
      "outputs": [
        {
          "output_type": "stream",
          "name": "stdout",
          "text": [
            "[ 1. -1. -1.  1.  1.  1.  1. -1.  1. -1.]\n"
          ]
        }
      ]
    },
    {
      "cell_type": "code",
      "source": [
        "# Demodulation\n",
        "received_I = received_signal * np.cos(2 * np.pi * symbol_rate * t)\n",
        "received_Q = -received_signal * np.sin(2 * np.pi * symbol_rate * t)\n",
        "# Symbol detection\n",
        "received_constellation = received_I + 1j * received_Q\n",
        "print(received_constellation)"
      ],
      "metadata": {
        "colab": {
          "base_uri": "https://localhost:8080/"
        },
        "id": "nC158ZWxe3Pp",
        "outputId": "b0fb93f2-6acb-43f5-f948-0b7049ed0a73"
      },
      "execution_count": 23,
      "outputs": [
        {
          "output_type": "stream",
          "name": "stdout",
          "text": [
            "[ 1.00078559+0.00000000e+00j -1.12773465-2.76215326e-16j\n",
            " -0.76594378-3.75204241e-16j  1.09180741+8.02247073e-16j\n",
            "  1.06065446+1.03914167e-15j  1.00957471+1.23637244e-15j\n",
            "  1.17257274+1.72318495e-15j -0.85063685-1.45842157e-15j\n",
            "  0.98368647+1.92746958e-15j -1.09782282-2.42000136e-15j]\n"
          ]
        }
      ]
    },
    {
      "cell_type": "code",
      "source": [
        "detected_symbols = np.argmin(np.abs(received_constellation[:, None] - constellation[None, :]), axis=1)\n",
        "print(detected_symbols)\n"
      ],
      "metadata": {
        "colab": {
          "base_uri": "https://localhost:8080/"
        },
        "id": "oTwrpXprEa_N",
        "outputId": "46eed160-554a-4b83-83c1-4584681e3790"
      },
      "execution_count": 24,
      "outputs": [
        {
          "output_type": "stream",
          "name": "stdout",
          "text": [
            "[2 0 0 3 3 3 3 0 3 0]\n"
          ]
        }
      ]
    },
    {
      "cell_type": "code",
      "source": [
        "print(symbols)"
      ],
      "metadata": {
        "colab": {
          "base_uri": "https://localhost:8080/"
        },
        "id": "-fEqP0muFBrF",
        "outputId": "7a05af77-90b5-4cf5-9877-b3459df138ba"
      },
      "execution_count": 25,
      "outputs": [
        {
          "output_type": "stream",
          "name": "stdout",
          "text": [
            "[2 1 1 2 3 3 3 1 2 1]\n"
          ]
        }
      ]
    }
  ]
}